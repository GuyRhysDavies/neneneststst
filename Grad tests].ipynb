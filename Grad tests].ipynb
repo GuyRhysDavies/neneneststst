{
 "cells": [
  {
   "cell_type": "code",
   "execution_count": 12,
   "id": "825ff8c5",
   "metadata": {},
   "outputs": [],
   "source": [
    "import numpy as np \n",
    "import dynesty\n",
    "import jax.numpy as jnp \n",
    "from jax import jit, grad"
   ]
  },
  {
   "cell_type": "code",
   "execution_count": 15,
   "id": "b3936d94",
   "metadata": {},
   "outputs": [],
   "source": [
    "# Define the dimensionality of our problem.\n",
    "ndim = 3\n",
    "\n",
    "# Define our 3-D correlated multivariate normal log-likelihood.\n",
    "C = np.identity(ndim)\n",
    "C[C==0] = 0.95\n",
    "Cinv = np.linalg.inv(C)\n",
    "lnorm = -0.5 * (np.log(2 * np.pi) * ndim +\n",
    "                np.log(np.linalg.det(C)))\n",
    "\n",
    "@jit\n",
    "def loglike(x):\n",
    "    return -0.5 * jnp.dot(x, jnp.dot(Cinv, x)) + lnorm\n",
    "\n",
    "# Define our uniform prior via the prior transform.\n",
    "def ptform(u):\n",
    "    return 20. * u - 10.\n",
    "\n",
    "# Define our gradient with and without the Jacobian applied.\n",
    "def grad_x(x):\n",
    "    return -np.dot(Cinv, x)  # without Jacobian\n",
    "\n",
    "def grad_u(x):\n",
    "    return -np.dot(Cinv, x) * 20.  # with Jacobian for uniform [-10, 10)\n",
    "\n",
    "def grad_j(x):\n",
    "    return grad(loglike)(x) * 20"
   ]
  },
  {
   "cell_type": "code",
   "execution_count": 16,
   "id": "3e458efe",
   "metadata": {},
   "outputs": [
    {
     "name": "stderr",
     "output_type": "stream",
     "text": [
      "iter: 3000 | bound: 7 | nc: 33 | ncall: 54935 | eff(%):  5.461 | loglstar:   -inf < -8.639 <    inf | logz: -16.377 +/-  0.116 | dlogz: 10.095 >  0.509                                               IOPub message rate exceeded.\n",
      "The notebook server will temporarily stop sending output\n",
      "to the client in order to avoid crashing it.\n",
      "To change this limit, set the config variable\n",
      "`--NotebookApp.iopub_msg_rate_limit`.\n",
      "\n",
      "Current values:\n",
      "NotebookApp.iopub_msg_rate_limit=1000.0 (msgs/sec)\n",
      "NotebookApp.rate_limit_window=3.0 (secs)\n",
      "\n",
      "iter: 4829 | +500 | bound: 16 | nc: 1 | ncall: 112839 | eff(%):  4.744 | loglstar:   -inf < -0.297 <    inf | logz: -9.170 +/-  0.129 | dlogz:  0.001 >  0.509                                        "
     ]
    },
    {
     "name": "stdout",
     "output_type": "stream",
     "text": [
      "CPU times: user 4.5 s, sys: 884 ms, total: 5.39 s\n",
      "Wall time: 5.48 s\n"
     ]
    }
   ],
   "source": [
    "%%time\n",
    "\n",
    "# Sample with `grad_u` (including Jacobian).\n",
    "sampler = dynesty.NestedSampler(loglike, ptform, ndim, sample='rslice')\n",
    "\n",
    "sampler.run_nested()\n",
    "results_with_jac = sampler.results"
   ]
  },
  {
   "cell_type": "code",
   "execution_count": 17,
   "id": "44b4fffa",
   "metadata": {},
   "outputs": [
    {
     "name": "stderr",
     "output_type": "stream",
     "text": [
      "iter: 4746 | +500 | bound: 36 | nc: 1 | ncall: 2701511 | eff(%):  0.194 | loglstar:   -inf < -0.306 <    inf | logz: -9.019 +/-  0.128 | dlogz:  0.001 >  0.509                                       "
     ]
    },
    {
     "name": "stdout",
     "output_type": "stream",
     "text": [
      "CPU times: user 3min 56s, sys: 1.63 s, total: 3min 58s\n",
      "Wall time: 3min 58s\n"
     ]
    }
   ],
   "source": [
    "%%time\n",
    "\n",
    "# Sample with `grad_u` (including Jacobian).\n",
    "sampler = dynesty.NestedSampler(loglike, ptform, ndim, sample='hslice',\n",
    "                                gradient=grad_j)\n",
    "sampler.run_nested()\n",
    "results_with_jac = sampler.results"
   ]
  },
  {
   "cell_type": "code",
   "execution_count": 9,
   "id": "0557f21a",
   "metadata": {},
   "outputs": [
    {
     "name": "stderr",
     "output_type": "stream",
     "text": [
      "iter: 4674 | +500 | bound: 36 | nc: 1 | ncall: 2663332 | eff(%):  0.194 | loglstar:   -inf < -0.309 <    inf | logz: -8.878 +/-  0.127 | dlogz:  0.001 >  0.509                                       "
     ]
    },
    {
     "name": "stdout",
     "output_type": "stream",
     "text": [
      "CPU times: user 36.6 s, sys: 4.6 s, total: 41.2 s\n",
      "Wall time: 38.6 s\n"
     ]
    }
   ],
   "source": [
    "%%time\n",
    "\n",
    "# Sample with `grad_x` (compute Jacobian numerically).\n",
    "sampler = dynesty.NestedSampler(loglike, ptform, ndim, sample='hslice',\n",
    "                                gradient=grad_x, compute_jac=True)\n",
    "sampler.run_nested()\n",
    "results_without_jac = sampler.results"
   ]
  },
  {
   "cell_type": "code",
   "execution_count": null,
   "id": "97e9cef1",
   "metadata": {},
   "outputs": [],
   "source": []
  }
 ],
 "metadata": {
  "kernelspec": {
   "display_name": "Python 3 (ipykernel)",
   "language": "python",
   "name": "python3"
  },
  "language_info": {
   "codemirror_mode": {
    "name": "ipython",
    "version": 3
   },
   "file_extension": ".py",
   "mimetype": "text/x-python",
   "name": "python",
   "nbconvert_exporter": "python",
   "pygments_lexer": "ipython3",
   "version": "3.9.6"
  }
 },
 "nbformat": 4,
 "nbformat_minor": 5
}
